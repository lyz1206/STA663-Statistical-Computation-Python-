{
 "cells": [
  {
   "cell_type": "markdown",
   "metadata": {},
   "source": [
    "# Homework 01:  Working with text"
   ]
  },
  {
   "cell_type": "markdown",
   "metadata": {},
   "source": [
    "Questions 1-6 use the text in the variable `sentences`."
   ]
  },
  {
   "cell_type": "markdown",
   "metadata": {},
   "source": [
    "`string` and `re` are imported for yoy. You should not use any ohter imports for this exercise."
   ]
  },
  {
   "cell_type": "code",
   "execution_count": 66,
   "metadata": {
    "collapsed": true
   },
   "outputs": [],
   "source": [
    "import string\n",
    "import re"
   ]
  },
  {
   "cell_type": "code",
   "execution_count": 67,
   "metadata": {
    "collapsed": true
   },
   "outputs": [],
   "source": [
    "sentences = \"\"\"\n",
    "Eva, Can I Stab Bats In A Cave?\n",
    "This is not a palindrome.\n",
    "Madam In Eden, I'm Adam\n",
    "Neither is this.\n",
    "Mr. Owl Ate My Metal Worm\n",
    "Do you think this is a palindrome?\n",
    "Never Odd Or Even\n",
    "Ouch! That hurts!!\n",
    "Doc, Note: I Dissent. A Fast Never Prevents A Fatness. I Diet On Cod.\n",
    "Pythons eat rats.\n",
    "\"\"\""
   ]
  },
  {
   "cell_type": "markdown",
   "metadata": {},
   "source": [
    "**1**. (10 points)\n",
    "\n",
    "- Write a function to identify palindromes. It should ignore spaces, punctuation and capitalization. "
   ]
  },
  {
   "cell_type": "code",
   "execution_count": 68,
   "metadata": {
    "collapsed": true
   },
   "outputs": [],
   "source": [
    "def ispalindromes(text):\n",
    "    s = text.strip().lower().translate(str.maketrans('', '',string.punctuation+string.whitespace))\n",
    "    return s == s[::-1]"
   ]
  },
  {
   "cell_type": "code",
   "execution_count": 69,
   "metadata": {},
   "outputs": [
    {
     "data": {
      "text/plain": [
       "True"
      ]
     },
     "execution_count": 69,
     "metadata": {},
     "output_type": "execute_result"
    }
   ],
   "source": [
    "ispalindromes(\"apa\")"
   ]
  },
  {
   "cell_type": "code",
   "execution_count": 70,
   "metadata": {},
   "outputs": [
    {
     "data": {
      "text/plain": [
       "False"
      ]
     },
     "execution_count": 70,
     "metadata": {},
     "output_type": "execute_result"
    }
   ],
   "source": [
    "ispalindromes(\"duke\")"
   ]
  },
  {
   "cell_type": "markdown",
   "metadata": {},
   "source": [
    "**2**. (10 points)\n",
    "\n",
    "Convert the given sentences into a list, and find the palindromes using\n",
    "\n",
    "- a for loop\n",
    "- a list comprehension\n",
    "- the `filter` higher order function"
   ]
  },
  {
   "cell_type": "code",
   "execution_count": 71,
   "metadata": {
    "collapsed": true
   },
   "outputs": [],
   "source": [
    "s_list = sentences.strip().split(\"\\n\")"
   ]
  },
  {
   "cell_type": "code",
   "execution_count": 72,
   "metadata": {},
   "outputs": [
    {
     "name": "stdout",
     "output_type": "stream",
     "text": [
      "['Eva, Can I Stab Bats In A Cave?', 'This is not a palindrome.', \"Madam In Eden, I'm Adam\", 'Neither is this.', 'Mr. Owl Ate My Metal Worm', 'Do you think this is a palindrome?', 'Never Odd Or Even', 'Ouch! That hurts!!', 'Doc, Note: I Dissent. A Fast Never Prevents A Fatness. I Diet On Cod.', 'Pythons eat rats.']\n"
     ]
    }
   ],
   "source": [
    "print(s_list)"
   ]
  },
  {
   "cell_type": "code",
   "execution_count": 73,
   "metadata": {},
   "outputs": [
    {
     "name": "stdout",
     "output_type": "stream",
     "text": [
      "Eva, Can I Stab Bats In A Cave? \n",
      "Madam In Eden, I'm Adam \n",
      "Mr. Owl Ate My Metal Worm \n",
      "Never Odd Or Even \n",
      "Doc, Note: I Dissent. A Fast Never Prevents A Fatness. I Diet On Cod. \n"
     ]
    }
   ],
   "source": [
    "# for loop method\n",
    "for s in s_list:\n",
    "    print(s,\"\") if ispalindromes(s) else None"
   ]
  },
  {
   "cell_type": "code",
   "execution_count": 74,
   "metadata": {},
   "outputs": [
    {
     "data": {
      "text/plain": [
       "['Eva, Can I Stab Bats In A Cave?',\n",
       " \"Madam In Eden, I'm Adam\",\n",
       " 'Mr. Owl Ate My Metal Worm',\n",
       " 'Never Odd Or Even',\n",
       " 'Doc, Note: I Dissent. A Fast Never Prevents A Fatness. I Diet On Cod.']"
      ]
     },
     "execution_count": 74,
     "metadata": {},
     "output_type": "execute_result"
    }
   ],
   "source": [
    "# a list comprehension\n",
    "[sen for sen in s_list if ispalindromes(sen)]"
   ]
  },
  {
   "cell_type": "code",
   "execution_count": 75,
   "metadata": {},
   "outputs": [
    {
     "data": {
      "text/plain": [
       "['Eva, Can I Stab Bats In A Cave?',\n",
       " \"Madam In Eden, I'm Adam\",\n",
       " 'Mr. Owl Ate My Metal Worm',\n",
       " 'Never Odd Or Even',\n",
       " 'Doc, Note: I Dissent. A Fast Never Prevents A Fatness. I Diet On Cod.']"
      ]
     },
     "execution_count": 75,
     "metadata": {},
     "output_type": "execute_result"
    }
   ],
   "source": [
    "# filter function method\n",
    "list(filter(ispalindromes, s_list))"
   ]
  },
  {
   "cell_type": "markdown",
   "metadata": {},
   "source": [
    "**3**. (10 points)\n",
    "\n",
    "Sort the same sentences in decreasing order of the number of vowels they contain."
   ]
  },
  {
   "cell_type": "code",
   "execution_count": 76,
   "metadata": {},
   "outputs": [
    {
     "data": {
      "text/plain": [
       "['Doc, Note: I Dissent. A Fast Never Prevents A Fatness. I Diet On Cod.',\n",
       " 'Do you think this is a palindrome?',\n",
       " 'Eva, Can I Stab Bats In A Cave?',\n",
       " 'This is not a palindrome.',\n",
       " \"Madam In Eden, I'm Adam\",\n",
       " 'Mr. Owl Ate My Metal Worm',\n",
       " 'Never Odd Or Even',\n",
       " 'Neither is this.',\n",
       " 'Ouch! That hurts!!',\n",
       " 'Pythons eat rats.']"
      ]
     },
     "execution_count": 76,
     "metadata": {},
     "output_type": "execute_result"
    }
   ],
   "source": [
    "sorted(sentences.strip().split(\"\\n\"),\n",
    "       key = lambda num: sum(char in \"aeiouAEIOU\" for char in num),\n",
    "       reverse=True)"
   ]
  },
  {
   "cell_type": "markdown",
   "metadata": {},
   "source": [
    "**4**. (10 points) \n",
    "\n",
    "Count the number of times each word occurs in the `sentences` variable. Ignore punctuation and capitalization. Show the top 3 words together with their counts."
   ]
  },
  {
   "cell_type": "code",
   "execution_count": 77,
   "metadata": {},
   "outputs": [
    {
     "data": {
      "text/plain": [
       "[['a', 5], ['i', 3], ['this', 3]]"
      ]
     },
     "execution_count": 77,
     "metadata": {},
     "output_type": "execute_result"
    }
   ],
   "source": [
    "words = sentences.strip().lower().translate(str.maketrans('','',string.punctuation)).split()\n",
    "uni = set(words)\n",
    "fre = [[word, words.count(word)] for word in uni]\n",
    "sorted(fre, key=lambda num: num[1], reverse=True)[0:3]"
   ]
  },
  {
   "cell_type": "markdown",
   "metadata": {},
   "source": [
    "**5**. (10 points)\n",
    "\n",
    "Convert the variable sentences into a string with no spaces or punctuation and all in lower case. Now find the most commonly occurring pair of characters (the character pairs in `abcde` are `ab`, `bc`, `cd`, `de`)."
   ]
  },
  {
   "cell_type": "code",
   "execution_count": 78,
   "metadata": {},
   "outputs": [
    {
     "data": {
      "text/plain": [
       "['th', 8]"
      ]
     },
     "execution_count": 78,
     "metadata": {},
     "output_type": "execute_result"
    }
   ],
   "source": [
    "sen = \"\".join(sentences.strip().lower().translate(str.maketrans('','', string.punctuation)).split())\n",
    "all = []\n",
    "for i in range(len(sen)-1):\n",
    "    all.append(sen[i:i+2])\n",
    "uni_pair = set(all)\n",
    "fre_pair = [[pair, all.count(pair)] for pair in uni_pair]\n",
    "sorted(fre_pair, key=lambda num:num[1], reverse=True)[0]"
   ]
  },
  {
   "cell_type": "markdown",
   "metadata": {},
   "source": [
    "**6**. (10 points)\n",
    "\n",
    "- Save the palindromes found in **1** to a file `data/palindromes.txt` with each palindrome in its own line.\n",
    "- Read the file `data/palindromes.txt` and display the lines formatted so that\n",
    "    - the longest line is printed as is\n",
    "    - all other lines are right-aligned to the longest line"
   ]
  },
  {
   "cell_type": "code",
   "execution_count": 79,
   "metadata": {
    "collapsed": true
   },
   "outputs": [],
   "source": [
    "problem1 = [sen for sen in s_list if ispalindromes(sen)]\n",
    "fileObject = open(\"data/palindromes.txt\",\"w\")\n",
    "for l in problem1:\n",
    "    fileObject.write(l)\n",
    "    fileObject.write(\"\\n\")\n",
    "fileObject.close()"
   ]
  },
  {
   "cell_type": "code",
   "execution_count": 80,
   "metadata": {},
   "outputs": [
    {
     "name": "stdout",
     "output_type": "stream",
     "text": [
      "                                      Eva, Can I Stab Bats In A Cave?\n",
      "                                              Madam In Eden, I'm Adam\n",
      "                                            Mr. Owl Ate My Metal Worm\n",
      "                                                    Never Odd Or Even\n",
      "Doc, Note: I Dissent. A Fast Never Prevents A Fatness. I Diet On Cod.\n"
     ]
    }
   ],
   "source": [
    "file = open(\"data/palindromes.txt\",\"r\")\n",
    "lines = file.readlines()\n",
    "max_length = max([len(l) for l in lines])\n",
    "for line in lines:\n",
    "    print(line.rjust(max_length), end='')\n",
    "file.close() "
   ]
  },
  {
   "cell_type": "markdown",
   "metadata": {},
   "source": [
    "**7**. (20 points)\n",
    "\n",
    "- Write a function called `encode` that uses the simple Caesar cipher with offset of $k$. A Caesar cipher moves a character $k$ positions forward with wraparound - an offset of 2 would give `a -> c, b -> d, ..., y -> a, z -> b`. \n",
    "\n",
    "The encoder should preserve punctuation, spaces and the case of the characters as in the example below for an offset of 13.\n",
    "\n",
    "```\n",
    "(original) Why did the chicken cross the road?\n",
    "(encoded) Jul qvq gur puvpxra pebff gur ebnq?\n",
    "```\n",
    "\n",
    "Write a function to encode and decode text using a Caesar cipher with an offset of 5 and test it on the `Why did the chicken cross the road?`"
   ]
  },
  {
   "cell_type": "code",
   "execution_count": 82,
   "metadata": {},
   "outputs": [
    {
     "data": {
      "text/plain": [
       "'Bmd ini ymj hmnhpjs hwtxx ymj wtfi?'"
      ]
     },
     "execution_count": 82,
     "metadata": {},
     "output_type": "execute_result"
    }
   ],
   "source": [
    "def get_transletter(text, offset):\n",
    "    '''\n",
    "    This function is used to get the updated letter after moving.\n",
    "    If offset is a positive interger, it is used for encoding.\n",
    "    If offset is a negative interger, it is used for decoding.\n",
    "    '''\n",
    "    ord_lower = [ord(letter) for letter in re.findall(r'\\w', string.ascii_lowercase)]\n",
    "    max_lower = max(ord_lower)\n",
    "    min_lower = min(ord_lower)\n",
    "    trans_ord_lower = []\n",
    "    for ord_l in ord_lower:\n",
    "        if ord_l+offset > max_lower:\n",
    "            trans_ord_lower.append(min_lower-1+(ord_l+offset-max_lower))\n",
    "        elif ord_l+offset < min_lower:\n",
    "            trans_ord_lower.append(max_lower+1-(min_lower-ord_l-offset))\n",
    "        else:\n",
    "            trans_ord_lower.append(ord_l+offset)\n",
    "    \n",
    "    trans_lower = [chr(ord_l) for ord_l in trans_ord_lower]\n",
    "    \n",
    "    ord_upper = [ord(letter) for letter in re.findall(r'\\w', string.ascii_uppercase)]\n",
    "    max_upper = max(ord_upper)\n",
    "    min_upper = min(ord_upper)\n",
    "    trans_ord_upper = []\n",
    "    for ord_u in ord_upper:\n",
    "        if ord_u+offset > max_upper:\n",
    "            trans_ord_upper.append(min_upper-1+(ord_u+offset-max_upper))\n",
    "        elif ord_u+offset < min_upper:\n",
    "            trans_ord_upper.append(max_lower+1-(min_upper-ord_u-offset))\n",
    "        else:\n",
    "            trans_ord_upper.append(ord_u+offset)\n",
    "    trans_upper = [chr(ord_u) for ord_u in trans_ord_upper]        \n",
    "    \n",
    "    trans = \"\".join(trans_lower + trans_upper)\n",
    "    orgin = string.ascii_letters\n",
    "    return text.translate(str.maketrans(origin, trans))\n",
    "    \n",
    "test = \"Why did the chicken cross the road?\"\n",
    "get_transletter(test, 5)"
   ]
  },
  {
   "cell_type": "markdown",
   "metadata": {},
   "source": [
    "**8**. (20 points)\n",
    "\n",
    "A one-time pad is the same as a Caesar cipher, except that each character is given a random offset (the pad contains a list of offsets). Without the pad, the cipher is unbreakable. Write a function to encode and decode using the one-time pad of offsets provided in `data/pad.txt`. As usual, the encoder should ignore punctuation and spaces but preserve the case of the characters."
   ]
  },
  {
   "cell_type": "code",
   "execution_count": 84,
   "metadata": {},
   "outputs": [],
   "source": [
    "def pad_offset(text, pad):\n",
    "    '''\n",
    "    This function is used to encode and decode using the one-time pad of offsets.\n",
    "    Basically, if all the elements in pad are positive integers, this function is used for encoding.\n",
    "    If all the elements in pad are negative integers, this function is used for decoding.\n",
    "    In the test below, due to the given data in pad, this function will encode the text.\n",
    "    '''\n",
    "    ord_lower = [ord(letter) for letter in re.findall(r'\\w', string.ascii_lowercase)]\n",
    "    max_lower = max(ord_lower)\n",
    "    min_lower = min(ord_lower)\n",
    "    ord_upper = [ord(letter) for letter in re.findall(r'\\w', string.ascii_uppercase)]\n",
    "    max_upper = max(ord_upper)\n",
    "    min_upper = min(ord_upper)\n",
    "\n",
    "    j = 0\n",
    "    output_letter = []\n",
    "    for i in range(len(text)):\n",
    "        char = text[i]\n",
    "        if char.isalpha():\n",
    "            if char.isupper():\n",
    "                if ord(char) + pad[j] > max_upper:\n",
    "                    trans = (min_upper-1+(ord(char)+pad[j]-max_upper))\n",
    "                    output_letter.append(chr(trans))\n",
    "                    j += 1\n",
    "                elif ord(char) + pad[j] < min_upper:\n",
    "                    trans = (max_upper+1-(min_upper-ord(char)-pad[j]))\n",
    "                    output_letter.append(chr(trans))\n",
    "                    j += 1\n",
    "                else:\n",
    "                    trans=(ord(char) + pad[j])\n",
    "                    output_letter.append(chr(trans))\n",
    "                    j += 1\n",
    "            else:\n",
    "                if ord(char) + pad[j] > max_lower:\n",
    "                    trans = (min_lower-1+(ord(char)+pad[j]-max_lower))\n",
    "                    output_letter.append(chr(trans))\n",
    "                    j += 1\n",
    "                elif ord(char) + pad[j] < min_lower:\n",
    "                    trans = (max_lower+1-(min_lower-ord(char)-pad[j]))\n",
    "                    output_letter.append(chr(trans))\n",
    "                    j += 1\n",
    "                else:\n",
    "                    trans=(ord(char) + pad[j])\n",
    "                    output_letter.append(chr(trans))\n",
    "                    j += 1\n",
    "        else:\n",
    "            output_letter.append(char)\n",
    "        \n",
    "        \n",
    "    return \"\".join(output_letter)    "
   ]
  },
  {
   "cell_type": "code",
   "execution_count": 85,
   "metadata": {},
   "outputs": [
    {
     "data": {
      "text/plain": [
       "'Hza inm xjm qsgwajt ivjyn irl iiqy?'"
      ]
     },
     "execution_count": 85,
     "metadata": {},
     "output_type": "execute_result"
    }
   ],
   "source": [
    "pad_file = open(\"data/pad.txt\",\"r\")\n",
    "pad = [int(num) for num in [lines.strip(\"\\n\") for lines in pad_file.readlines()]]\n",
    "pad_file.close()\n",
    "test = \"Why did the chicken cross the road?\"\n",
    "pad_offset(test, pad)"
   ]
  }
 ],
 "metadata": {
  "kernelspec": {
   "display_name": "Python 3",
   "language": "python",
   "name": "python3"
  },
  "language_info": {
   "codemirror_mode": {
    "name": "ipython",
    "version": 3
   },
   "file_extension": ".py",
   "mimetype": "text/x-python",
   "name": "python",
   "nbconvert_exporter": "python",
   "pygments_lexer": "ipython3",
   "version": "3.6.3"
  }
 },
 "nbformat": 4,
 "nbformat_minor": 2
}
