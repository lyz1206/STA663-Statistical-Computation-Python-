{
 "cells": [
  {
   "cell_type": "code",
   "execution_count": 1,
   "metadata": {
    "collapsed": true
   },
   "outputs": [],
   "source": [
    "%matplotlib inline\n",
    "\n",
    "import numpy as np\n",
    "import pandas as pd\n",
    "import matplotlib as mpl\n",
    "import matplotlib.pyplot as plt\n",
    "import seaborn as sns\n",
    "import scipy\n",
    "\n",
    "sns.set_context('notebook', font_scale=1.5)"
   ]
  },
  {
   "cell_type": "code",
   "execution_count": 2,
   "metadata": {
    "collapsed": true
   },
   "outputs": [],
   "source": [
    "import warnings\n",
    "warnings.simplefilter('ignore', FutureWarning)"
   ]
  },
  {
   "cell_type": "markdown",
   "metadata": {},
   "source": [
    "**1**. (25 points)\n",
    "\n",
    "In this exercise, we will practice using Pandas dataframes to explore and summarize a data set `heart`.\n",
    "\n",
    "This data contains the survival time after receiving a heart transplant, the age of the patient and whether or not the survival time was censored\n",
    "\n",
    "- Number of Observations - 69\n",
    "- Number of Variables - 3\n",
    "\n",
    "Variable name definitions::\n",
    "\n",
    "- survival - Days after surgery until death\n",
    "- censors - indicates if an observation is censored. 1 is uncensored\n",
    "- age - age at the time of surgery\n",
    "\n",
    "Answer the following questions (5 points each) with respect to the `heart` data set:\n",
    "\n",
    "- How many patients were censored?\n",
    "- What is the correlation coefficient between age and survival for uncensored patients? \n",
    "- What is the average age for censored and uncensored patients?\n",
    "- What is the average survival time for censored and uncensored patients under the age of 45?\n",
    "- What is the survival time of the youngest and oldest uncensored patient?\n"
   ]
  },
  {
   "cell_type": "code",
   "execution_count": 3,
   "metadata": {},
   "outputs": [
    {
     "data": {
      "text/html": [
       "<div>\n",
       "<style>\n",
       "    .dataframe thead tr:only-child th {\n",
       "        text-align: right;\n",
       "    }\n",
       "\n",
       "    .dataframe thead th {\n",
       "        text-align: left;\n",
       "    }\n",
       "\n",
       "    .dataframe tbody tr th {\n",
       "        vertical-align: top;\n",
       "    }\n",
       "</style>\n",
       "<table border=\"1\" class=\"dataframe\">\n",
       "  <thead>\n",
       "    <tr style=\"text-align: right;\">\n",
       "      <th></th>\n",
       "      <th>survival</th>\n",
       "      <th>censors</th>\n",
       "      <th>age</th>\n",
       "    </tr>\n",
       "  </thead>\n",
       "  <tbody>\n",
       "    <tr>\n",
       "      <th>0</th>\n",
       "      <td>15.0</td>\n",
       "      <td>1.0</td>\n",
       "      <td>54.3</td>\n",
       "    </tr>\n",
       "    <tr>\n",
       "      <th>1</th>\n",
       "      <td>3.0</td>\n",
       "      <td>1.0</td>\n",
       "      <td>40.4</td>\n",
       "    </tr>\n",
       "    <tr>\n",
       "      <th>2</th>\n",
       "      <td>624.0</td>\n",
       "      <td>1.0</td>\n",
       "      <td>51.0</td>\n",
       "    </tr>\n",
       "    <tr>\n",
       "      <th>3</th>\n",
       "      <td>46.0</td>\n",
       "      <td>1.0</td>\n",
       "      <td>42.5</td>\n",
       "    </tr>\n",
       "    <tr>\n",
       "      <th>4</th>\n",
       "      <td>127.0</td>\n",
       "      <td>1.0</td>\n",
       "      <td>48.0</td>\n",
       "    </tr>\n",
       "    <tr>\n",
       "      <th>5</th>\n",
       "      <td>64.0</td>\n",
       "      <td>1.0</td>\n",
       "      <td>54.6</td>\n",
       "    </tr>\n",
       "  </tbody>\n",
       "</table>\n",
       "</div>"
      ],
      "text/plain": [
       "   survival  censors   age\n",
       "0      15.0      1.0  54.3\n",
       "1       3.0      1.0  40.4\n",
       "2     624.0      1.0  51.0\n",
       "3      46.0      1.0  42.5\n",
       "4     127.0      1.0  48.0\n",
       "5      64.0      1.0  54.6"
      ]
     },
     "execution_count": 3,
     "metadata": {},
     "output_type": "execute_result"
    }
   ],
   "source": [
    "import statsmodels.api as sm\n",
    "heart = sm.datasets.heart.load_pandas().data\n",
    "heart.head(n=6)"
   ]
  },
  {
   "cell_type": "code",
   "execution_count": 4,
   "metadata": {},
   "outputs": [
    {
     "data": {
      "text/plain": [
       "24"
      ]
     },
     "execution_count": 4,
     "metadata": {},
     "output_type": "execute_result"
    }
   ],
   "source": [
    "#How many patients were censored?\n",
    "heart[heart.censors==0].shape[0]"
   ]
  },
  {
   "cell_type": "markdown",
   "metadata": {},
   "source": [
    "24 patients were censored."
   ]
  },
  {
   "cell_type": "code",
   "execution_count": 5,
   "metadata": {},
   "outputs": [
    {
     "data": {
      "text/plain": [
       "0.0032564992832119144"
      ]
     },
     "execution_count": 5,
     "metadata": {},
     "output_type": "execute_result"
    }
   ],
   "source": [
    "#What is the correlation coefficient between age and survival for uncensored patients?\n",
    "uncensored = heart[heart.censors==1]\n",
    "scipy.stats.pearsonr(uncensored.age, uncensored.survival)[0]"
   ]
  },
  {
   "cell_type": "markdown",
   "metadata": {},
   "source": [
    "The correlation coefficient between age and survival for uncensored patients is 0.003."
   ]
  },
  {
   "cell_type": "code",
   "execution_count": 6,
   "metadata": {},
   "outputs": [
    {
     "data": {
      "text/html": [
       "<div>\n",
       "<style>\n",
       "    .dataframe thead tr:only-child th {\n",
       "        text-align: right;\n",
       "    }\n",
       "\n",
       "    .dataframe thead th {\n",
       "        text-align: left;\n",
       "    }\n",
       "\n",
       "    .dataframe tbody tr th {\n",
       "        vertical-align: top;\n",
       "    }\n",
       "</style>\n",
       "<table border=\"1\" class=\"dataframe\">\n",
       "  <thead>\n",
       "    <tr style=\"text-align: right;\">\n",
       "      <th></th>\n",
       "      <th>age</th>\n",
       "    </tr>\n",
       "    <tr>\n",
       "      <th>censors</th>\n",
       "      <th></th>\n",
       "    </tr>\n",
       "  </thead>\n",
       "  <tbody>\n",
       "    <tr>\n",
       "      <th>0.0</th>\n",
       "      <td>41.729167</td>\n",
       "    </tr>\n",
       "    <tr>\n",
       "      <th>1.0</th>\n",
       "      <td>48.484444</td>\n",
       "    </tr>\n",
       "  </tbody>\n",
       "</table>\n",
       "</div>"
      ],
      "text/plain": [
       "               age\n",
       "censors           \n",
       "0.0      41.729167\n",
       "1.0      48.484444"
      ]
     },
     "execution_count": 6,
     "metadata": {},
     "output_type": "execute_result"
    }
   ],
   "source": [
    "#What is the average age for censored and uncensored patients?\n",
    "heart.groupby(\"censors\").agg({'age':\"mean\"})"
   ]
  },
  {
   "cell_type": "markdown",
   "metadata": {},
   "source": [
    "The average age for censored patients is 48.48, for uncensored patients is 41.73."
   ]
  },
  {
   "cell_type": "code",
   "execution_count": 7,
   "metadata": {},
   "outputs": [
    {
     "data": {
      "text/html": [
       "<div>\n",
       "<style>\n",
       "    .dataframe thead tr:only-child th {\n",
       "        text-align: right;\n",
       "    }\n",
       "\n",
       "    .dataframe thead th {\n",
       "        text-align: left;\n",
       "    }\n",
       "\n",
       "    .dataframe tbody tr th {\n",
       "        vertical-align: top;\n",
       "    }\n",
       "</style>\n",
       "<table border=\"1\" class=\"dataframe\">\n",
       "  <thead>\n",
       "    <tr style=\"text-align: right;\">\n",
       "      <th></th>\n",
       "      <th>survival</th>\n",
       "    </tr>\n",
       "    <tr>\n",
       "      <th>censors</th>\n",
       "      <th></th>\n",
       "    </tr>\n",
       "  </thead>\n",
       "  <tbody>\n",
       "    <tr>\n",
       "      <th>0.0</th>\n",
       "      <td>712.818182</td>\n",
       "    </tr>\n",
       "    <tr>\n",
       "      <th>1.0</th>\n",
       "      <td>169.909091</td>\n",
       "    </tr>\n",
       "  </tbody>\n",
       "</table>\n",
       "</div>"
      ],
      "text/plain": [
       "           survival\n",
       "censors            \n",
       "0.0      712.818182\n",
       "1.0      169.909091"
      ]
     },
     "execution_count": 7,
     "metadata": {},
     "output_type": "execute_result"
    }
   ],
   "source": [
    "#What is the average survival time for censored and uncensored patients under the age of 45?\n",
    "heart[heart.age<45].groupby(\"censors\").agg({\"survival\":\"mean\"})"
   ]
  },
  {
   "cell_type": "markdown",
   "metadata": {},
   "source": [
    "The average survival time for censored patients under 45 years old is 169.9 days.\n",
    "The average survival time for uncensored patients under 45 years old is 712.8 days."
   ]
  },
  {
   "cell_type": "code",
   "execution_count": 8,
   "metadata": {
    "collapsed": true
   },
   "outputs": [],
   "source": [
    "#What is the survival time of the youngest and oldest uncensored patient?\n",
    "survival_min = uncensored[uncensored.age == uncensored.age.min()].survival\n",
    "survival_max = uncensored[uncensored.age == uncensored.age.max()].survival"
   ]
  },
  {
   "cell_type": "code",
   "execution_count": 9,
   "metadata": {},
   "outputs": [
    {
     "data": {
      "text/plain": [
       "41    228.0\n",
       "Name: survival, dtype: float64"
      ]
     },
     "execution_count": 9,
     "metadata": {},
     "output_type": "execute_result"
    }
   ],
   "source": [
    "survival_min"
   ]
  },
  {
   "cell_type": "markdown",
   "metadata": {},
   "source": [
    "The survival time of the yougest uncensored patient is 228."
   ]
  },
  {
   "cell_type": "code",
   "execution_count": 10,
   "metadata": {},
   "outputs": [
    {
     "data": {
      "text/plain": [
       "17    60.0\n",
       "Name: survival, dtype: float64"
      ]
     },
     "execution_count": 10,
     "metadata": {},
     "output_type": "execute_result"
    }
   ],
   "source": [
    "survival_max"
   ]
  },
  {
   "cell_type": "markdown",
   "metadata": {},
   "source": [
    "The survival time of the oldest uncensored patient is 60."
   ]
  },
  {
   "cell_type": "markdown",
   "metadata": {},
   "source": [
    "**2**. (35 points)\n",
    "\n",
    "- Consider a sequence of $n$ Bernoulli trials with success probabilty $p$ per trial. A string of consecutive successes is known as a success *run*. Write a function that returns the counts for runs of length $k$ for each $k$ observed in a dictionary. (10 points)\n",
    "\n",
    "For example: if the trials were [0, 1, 0, 1, 1, 0, 0, 0, 0, 1], the function should return \n",
    "```\n",
    "{1: 2, 2: 1})\n",
    "```\n",
    "\n",
    "Test that it does so.\n",
    "\n",
    "- What is the probability of observing at least one run of length 5 or more when $n=100$ and $p=0.5$?. Estimate this from 100,000 simulated experiments. Is this more, less or equally likely than finding runs of length 7 or more when $p=0.7$? (10 points)\n",
    "\n",
    "- There is an exact solution\n",
    "\n",
    "$$\n",
    "s_n = \\sum_{i=1}^n{f_i} \\\\\n",
    "f_n = u_n - \\sum_{i=1}^{n-1} {f_i u_{n-i}} \\\\\n",
    "u_n = p^k - \\sum_{i=1}^{k-1} u_{n-i} p^i\n",
    "$$\n",
    "\n",
    "Implement the exact solution using caching to avoid re-calculations and calculate the same two probabilities found by simulation. (15 points)"
   ]
  },
  {
   "cell_type": "code",
   "execution_count": 11,
   "metadata": {
    "collapsed": true
   },
   "outputs": [],
   "source": [
    "def len_run(str_list):\n",
    "    s_str = \"\".join([str(s) for s in str_list]).split(\"0\")\n",
    "    run = [s for s in s_str if s != \"\"]\n",
    "    unique = set(run)\n",
    "    l = [len(u) for u in unique]\n",
    "    count = []\n",
    "    for e in unique:\n",
    "        count.append(run.count(e))\n",
    "    \n",
    "    return dict(zip(l, count))"
   ]
  },
  {
   "cell_type": "code",
   "execution_count": 12,
   "metadata": {},
   "outputs": [
    {
     "data": {
      "text/plain": [
       "{1: 2, 2: 1}"
      ]
     },
     "execution_count": 12,
     "metadata": {},
     "output_type": "execute_result"
    }
   ],
   "source": [
    "s = [0, 1, 0, 1, 1, 0, 0, 0, 0, 1]\n",
    "len_run(s)"
   ]
  },
  {
   "cell_type": "code",
   "execution_count": 13,
   "metadata": {
    "collapsed": true
   },
   "outputs": [],
   "source": [
    "n = 100\n",
    "p = 0.5\n",
    "N = 100000\n",
    "result = []\n",
    "for i in range(N):\n",
    "    s = [np.random.binomial(1,p) for j in range(n)]\n",
    "    run_len = len_run(s).keys()\n",
    "    whether_5 = np.sum([e >= 5 for e in run_len])\n",
    "    if whether_5>=1:\n",
    "        result.append(1)\n",
    "    else:\n",
    "        result.append(0)"
   ]
  },
  {
   "cell_type": "code",
   "execution_count": 14,
   "metadata": {},
   "outputs": [
    {
     "data": {
      "text/plain": [
       "0.81115999999999999"
      ]
     },
     "execution_count": 14,
     "metadata": {},
     "output_type": "execute_result"
    }
   ],
   "source": [
    "np.mean(result)"
   ]
  },
  {
   "cell_type": "code",
   "execution_count": 15,
   "metadata": {
    "collapsed": true
   },
   "outputs": [],
   "source": [
    "n = 100\n",
    "p = 0.7\n",
    "N = 100000\n",
    "result = []\n",
    "for i in range(N):\n",
    "    s = [np.random.binomial(1,p) for j in range(n)]\n",
    "    run_len = len_run(s).keys()\n",
    "    whether_5 = np.sum([e >= 7 for e in run_len])\n",
    "    if whether_5>=1:\n",
    "        result.append(1)\n",
    "    else:\n",
    "        result.append(0)"
   ]
  },
  {
   "cell_type": "code",
   "execution_count": 16,
   "metadata": {},
   "outputs": [
    {
     "data": {
      "text/plain": [
       "0.94891999999999999"
      ]
     },
     "execution_count": 16,
     "metadata": {},
     "output_type": "execute_result"
    }
   ],
   "source": [
    "np.mean(result)"
   ]
  },
  {
   "cell_type": "code",
   "execution_count": 17,
   "metadata": {
    "collapsed": true
   },
   "outputs": [],
   "source": [
    "from functools import lru_cache\n",
    "\n",
    "@lru_cache()\n",
    "def u(n,k,p):\n",
    "    if n < k:\n",
    "        return 0\n",
    "    else:\n",
    "        return p**k - sum(u(n-i, k, p)*p**i for i in range(1, k))\n",
    "\n",
    "@lru_cache()\n",
    "def f(n,k,p):\n",
    "    return u(n,k,p) - sum(f(i,k,p)*u(n-i,k,p) for i in range(1,n))\n",
    "\n",
    "@lru_cache()\n",
    "def s(n,k,p):\n",
    "    return sum(f(i,k,p) for i in range(1, n+1))"
   ]
  },
  {
   "cell_type": "code",
   "execution_count": 18,
   "metadata": {},
   "outputs": [
    {
     "data": {
      "text/plain": [
       "0.8101095991963579"
      ]
     },
     "execution_count": 18,
     "metadata": {},
     "output_type": "execute_result"
    }
   ],
   "source": [
    "s(100,5,0.5)"
   ]
  },
  {
   "cell_type": "code",
   "execution_count": 19,
   "metadata": {},
   "outputs": [
    {
     "data": {
      "text/plain": [
       "0.9491817984156692"
      ]
     },
     "execution_count": 19,
     "metadata": {},
     "output_type": "execute_result"
    }
   ],
   "source": [
    "s(100,7,0.7)"
   ]
  },
  {
   "cell_type": "markdown",
   "metadata": {},
   "source": [
    "**3**. (40 points)\n",
    "\n",
    "Given matrix $M$\n",
    "```python\n",
    "      [[7, 8, 8],\n",
    "       [1, 3, 8],\n",
    "       [9, 2, 1]]\n",
    "```\n",
    "\n",
    "- Normalize the given matrix $M$ so that all rows sum to 1.0.  (5 points)\n",
    "- The normalized matrix can then be considered as a transition matrix $P$ for a Markov chain. Find the stationary distribution of this matrix in the following ways using `numpy` and `numpy.linalg` (or `scipy.linalg`):\n",
    "    - By repeated matrix multiplication of a random probability vector $v$ (a row vector normalized to sum to 1.0) with $P$ using matrix multiplication with `np.dot`. (5 points)\n",
    "    - By raising the matrix $P$ to some large power until it doesn't change with higher powers (see `np.linalg.matrix_power`) and then calculating $vP$ (10 points)\n",
    "    - From the equation for stationarity $wP = w$, we can see that $w$ must be a left eigenvector of $P$ with eigenvalue $1$ (Note: np.linalg.eig returns the right eigenvectors, but the left eigenvector of a matrix is the right eigenvector of the transposed matrix). Use this to find $w$ using `np.linalg.eig`. (20 points)\n",
    "\n",
    "Suppose $w = (w_1, w_2, w_3)$. Then from $wP = w$, we have:\n",
    "\\begin{align}\n",
    "w_1 P_{11} + w_2 P_{21} + w_3 P_{31} &= w_1 \\\\\n",
    "w_1 P_{12} + w_2 P_{22} + w_3 P_{32} &= w_2 \\\\\n",
    "w_1 P_{13} + w_2 P_{23} + w_3 P_{331} &= w_3 \\\\\n",
    "\\end{align}\n",
    "This is a singular system, but we also know that $w_1 + w_2 + w_3 = 1$. Use these facts to set up a linear system of equations that can be solved with `np.linalg.solve` to find $w$."
   ]
  },
  {
   "cell_type": "code",
   "execution_count": 20,
   "metadata": {},
   "outputs": [
    {
     "data": {
      "text/plain": [
       "array([[7, 8, 8],\n",
       "       [1, 3, 8],\n",
       "       [9, 2, 1]])"
      ]
     },
     "execution_count": 20,
     "metadata": {},
     "output_type": "execute_result"
    }
   ],
   "source": [
    "M = np.array([[7,8,8],[1,3,8],[9,2,1]])\n",
    "M"
   ]
  },
  {
   "cell_type": "code",
   "execution_count": 21,
   "metadata": {},
   "outputs": [
    {
     "data": {
      "text/plain": [
       "array([[ 0.30434783,  0.34782609,  0.34782609],\n",
       "       [ 0.08333333,  0.25      ,  0.66666667],\n",
       "       [ 0.75      ,  0.16666667,  0.08333333]])"
      ]
     },
     "execution_count": 21,
     "metadata": {},
     "output_type": "execute_result"
    }
   ],
   "source": [
    "sum_row = M.sum(axis=1)\n",
    "normalized_M = M/sum_row[:,None]\n",
    "normalized_M"
   ]
  },
  {
   "cell_type": "code",
   "execution_count": 38,
   "metadata": {
    "collapsed": true
   },
   "outputs": [],
   "source": [
    "P = normalized_M\n",
    "v = np.array([0.2, 0.7, 0.1])"
   ]
  },
  {
   "cell_type": "code",
   "execution_count": 28,
   "metadata": {},
   "outputs": [
    {
     "data": {
      "text/plain": [
       "array([ 0.39862184,  0.2605972 ,  0.34078096])"
      ]
     },
     "execution_count": 28,
     "metadata": {},
     "output_type": "execute_result"
    }
   ],
   "source": [
    "v_old = v\n",
    "v_new = np.dot(v_old,P)\n",
    "while any(v_old != v_new):\n",
    "    v_old = v_new\n",
    "    v_new = np.dot(v_old, P)\n",
    "w1 = v_old\n",
    "w1"
   ]
  },
  {
   "cell_type": "code",
   "execution_count": 36,
   "metadata": {},
   "outputs": [
    {
     "data": {
      "text/plain": [
       "array([[ 0.39862184,  0.2605972 ,  0.34078096],\n",
       "       [ 0.39862184,  0.2605972 ,  0.34078096],\n",
       "       [ 0.39862184,  0.2605972 ,  0.34078096]])"
      ]
     },
     "execution_count": 36,
     "metadata": {},
     "output_type": "execute_result"
    }
   ],
   "source": [
    "P_s = np.linalg.matrix_power(P,20)\n",
    "P_s"
   ]
  },
  {
   "cell_type": "code",
   "execution_count": 39,
   "metadata": {},
   "outputs": [
    {
     "data": {
      "text/plain": [
       "array([ 0.39862184,  0.2605972 ,  0.34078096])"
      ]
     },
     "execution_count": 39,
     "metadata": {},
     "output_type": "execute_result"
    }
   ],
   "source": [
    "w2 = np.dot(v, P_s)\n",
    "w2"
   ]
  },
  {
   "cell_type": "code",
   "execution_count": 40,
   "metadata": {},
   "outputs": [
    {
     "data": {
      "text/plain": [
       "array([ 0.39862184+0.j,  0.26059720+0.j,  0.34078096+0.j])"
      ]
     },
     "execution_count": 40,
     "metadata": {},
     "output_type": "execute_result"
    }
   ],
   "source": [
    "W,V = np.linalg.eig(P.T)\n",
    "w3 = V[:, 0]/V[:, 0].sum()\n",
    "w3"
   ]
  },
  {
   "cell_type": "code",
   "execution_count": 41,
   "metadata": {},
   "outputs": [
    {
     "data": {
      "text/plain": [
       "array([ 0.39862184,  0.2605972 ,  0.34078096])"
      ]
     },
     "execution_count": 41,
     "metadata": {},
     "output_type": "execute_result"
    }
   ],
   "source": [
    "A = np.r_[P.T-np.eye(3),[np.ones(3)]][1:,:]\n",
    "b = np.array([0,0,1])\n",
    "w4 = np.linalg.solve(A,b)\n",
    "w4"
   ]
  },
  {
   "cell_type": "code",
   "execution_count": null,
   "metadata": {
    "collapsed": true
   },
   "outputs": [],
   "source": []
  }
 ],
 "metadata": {
  "kernelspec": {
   "display_name": "Python 3",
   "language": "python",
   "name": "python3"
  },
  "language_info": {
   "codemirror_mode": {
    "name": "ipython",
    "version": 3
   },
   "file_extension": ".py",
   "mimetype": "text/x-python",
   "name": "python",
   "nbconvert_exporter": "python",
   "pygments_lexer": "ipython3",
   "version": "3.6.3"
  }
 },
 "nbformat": 4,
 "nbformat_minor": 2
}
